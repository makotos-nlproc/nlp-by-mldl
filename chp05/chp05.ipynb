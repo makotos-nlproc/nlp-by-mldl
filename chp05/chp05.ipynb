{
 "metadata": {
  "language_info": {
   "codemirror_mode": {
    "name": "ipython",
    "version": 3
   },
   "file_extension": ".py",
   "mimetype": "text/x-python",
   "name": "python",
   "nbconvert_exporter": "python",
   "pygments_lexer": "ipython3",
   "version": "3.8.5-final"
  },
  "orig_nbformat": 2,
  "kernelspec": {
   "name": "Python 3.8.5 64-bit ('nlp-by-mldl': conda)",
   "display_name": "Python 3.8.5 64-bit ('nlp-by-mldl': conda)",
   "metadata": {
    "interpreter": {
     "hash": "78eea9ec70b299eadf3d76a36d5c5bdd2e0103866114e14c2e3c8a4dde20612d"
    }
   }
  }
 },
 "nbformat": 4,
 "nbformat_minor": 2,
 "cells": [
  {
   "cell_type": "code",
   "execution_count": 1,
   "metadata": {},
   "outputs": [],
   "source": [
    "import pandas as pd"
   ]
  },
  {
   "cell_type": "code",
   "execution_count": 2,
   "metadata": {},
   "outputs": [
    {
     "output_type": "execute_result",
     "data": {
      "text/plain": "       drink size\n0       Cola    S\n1       Cola    M\n2  Green Tea    L\n3       Milk    M",
      "text/html": "<div>\n<style scoped>\n    .dataframe tbody tr th:only-of-type {\n        vertical-align: middle;\n    }\n\n    .dataframe tbody tr th {\n        vertical-align: top;\n    }\n\n    .dataframe thead th {\n        text-align: right;\n    }\n</style>\n<table border=\"1\" class=\"dataframe\">\n  <thead>\n    <tr style=\"text-align: right;\">\n      <th></th>\n      <th>drink</th>\n      <th>size</th>\n    </tr>\n  </thead>\n  <tbody>\n    <tr>\n      <th>0</th>\n      <td>Cola</td>\n      <td>S</td>\n    </tr>\n    <tr>\n      <th>1</th>\n      <td>Cola</td>\n      <td>M</td>\n    </tr>\n    <tr>\n      <th>2</th>\n      <td>Green Tea</td>\n      <td>L</td>\n    </tr>\n    <tr>\n      <th>3</th>\n      <td>Milk</td>\n      <td>M</td>\n    </tr>\n  </tbody>\n</table>\n</div>"
     },
     "metadata": {},
     "execution_count": 2
    }
   ],
   "source": [
    "df = pd.DataFrame([\n",
    "    ['Cola', 'S'],\n",
    "    ['Cola', 'M'],\n",
    "    ['Green Tea', 'L'],\n",
    "    ['Milk', 'M'],\n",
    "], columns=['drink', 'size'])\n",
    "df.head()"
   ]
  },
  {
   "cell_type": "code",
   "execution_count": 2,
   "metadata": {},
   "outputs": [
    {
     "output_type": "execute_result",
     "data": {
      "text/plain": "       drink  size\n0       Cola     0\n1       Cola     1\n2  Green Tea     2\n3       Milk     1",
      "text/html": "<div>\n<style scoped>\n    .dataframe tbody tr th:only-of-type {\n        vertical-align: middle;\n    }\n\n    .dataframe tbody tr th {\n        vertical-align: top;\n    }\n\n    .dataframe thead th {\n        text-align: right;\n    }\n</style>\n<table border=\"1\" class=\"dataframe\">\n  <thead>\n    <tr style=\"text-align: right;\">\n      <th></th>\n      <th>drink</th>\n      <th>size</th>\n    </tr>\n  </thead>\n  <tbody>\n    <tr>\n      <th>0</th>\n      <td>Cola</td>\n      <td>0</td>\n    </tr>\n    <tr>\n      <th>1</th>\n      <td>Cola</td>\n      <td>1</td>\n    </tr>\n    <tr>\n      <th>2</th>\n      <td>Green Tea</td>\n      <td>2</td>\n    </tr>\n    <tr>\n      <th>3</th>\n      <td>Milk</td>\n      <td>1</td>\n    </tr>\n  </tbody>\n</table>\n</div>"
     },
     "metadata": {},
     "execution_count": 2
    }
   ],
   "source": [
    "size2int = {'S': 0, 'M': 1, 'L': 2}\n",
    "df['size'] = df['size'].map(size2int)\n",
    "df.head()"
   ]
  },
  {
   "cell_type": "code",
   "execution_count": 3,
   "metadata": {},
   "outputs": [
    {
     "output_type": "execute_result",
     "data": {
      "text/plain": "array([0, 1, 2], dtype=int64)"
     },
     "metadata": {},
     "execution_count": 3
    }
   ],
   "source": [
    "df['size'].unique()"
   ]
  },
  {
   "cell_type": "code",
   "execution_count": 3,
   "metadata": {},
   "outputs": [
    {
     "output_type": "execute_result",
     "data": {
      "text/plain": "       drink size  drinkLable\n0       Cola    S           0\n1       Cola    M           0\n2  Green Tea    L           1\n3       Milk    M           2",
      "text/html": "<div>\n<style scoped>\n    .dataframe tbody tr th:only-of-type {\n        vertical-align: middle;\n    }\n\n    .dataframe tbody tr th {\n        vertical-align: top;\n    }\n\n    .dataframe thead th {\n        text-align: right;\n    }\n</style>\n<table border=\"1\" class=\"dataframe\">\n  <thead>\n    <tr style=\"text-align: right;\">\n      <th></th>\n      <th>drink</th>\n      <th>size</th>\n      <th>drinkLable</th>\n    </tr>\n  </thead>\n  <tbody>\n    <tr>\n      <th>0</th>\n      <td>Cola</td>\n      <td>S</td>\n      <td>0</td>\n    </tr>\n    <tr>\n      <th>1</th>\n      <td>Cola</td>\n      <td>M</td>\n      <td>0</td>\n    </tr>\n    <tr>\n      <th>2</th>\n      <td>Green Tea</td>\n      <td>L</td>\n      <td>1</td>\n    </tr>\n    <tr>\n      <th>3</th>\n      <td>Milk</td>\n      <td>M</td>\n      <td>2</td>\n    </tr>\n  </tbody>\n</table>\n</div>"
     },
     "metadata": {},
     "execution_count": 3
    }
   ],
   "source": [
    "from sklearn.preprocessing import LabelEncoder\n",
    "encoder = LabelEncoder()\n",
    "df['drinkLable'] =  encoder.fit_transform(df['drink'])\n",
    "df.head()"
   ]
  },
  {
   "cell_type": "code",
   "execution_count": 4,
   "metadata": {},
   "outputs": [
    {
     "output_type": "execute_result",
     "data": {
      "text/plain": "   drinkLable  drink_Cola  drink_Green Tea  drink_Milk  size_L  size_M  size_S\n0           0           1                0           0       0       0       1\n1           0           1                0           0       0       1       0\n2           1           0                1           0       1       0       0\n3           2           0                0           1       0       1       0",
      "text/html": "<div>\n<style scoped>\n    .dataframe tbody tr th:only-of-type {\n        vertical-align: middle;\n    }\n\n    .dataframe tbody tr th {\n        vertical-align: top;\n    }\n\n    .dataframe thead th {\n        text-align: right;\n    }\n</style>\n<table border=\"1\" class=\"dataframe\">\n  <thead>\n    <tr style=\"text-align: right;\">\n      <th></th>\n      <th>drinkLable</th>\n      <th>drink_Cola</th>\n      <th>drink_Green Tea</th>\n      <th>drink_Milk</th>\n      <th>size_L</th>\n      <th>size_M</th>\n      <th>size_S</th>\n    </tr>\n  </thead>\n  <tbody>\n    <tr>\n      <th>0</th>\n      <td>0</td>\n      <td>1</td>\n      <td>0</td>\n      <td>0</td>\n      <td>0</td>\n      <td>0</td>\n      <td>1</td>\n    </tr>\n    <tr>\n      <th>1</th>\n      <td>0</td>\n      <td>1</td>\n      <td>0</td>\n      <td>0</td>\n      <td>0</td>\n      <td>1</td>\n      <td>0</td>\n    </tr>\n    <tr>\n      <th>2</th>\n      <td>1</td>\n      <td>0</td>\n      <td>1</td>\n      <td>0</td>\n      <td>1</td>\n      <td>0</td>\n      <td>0</td>\n    </tr>\n    <tr>\n      <th>3</th>\n      <td>2</td>\n      <td>0</td>\n      <td>0</td>\n      <td>1</td>\n      <td>0</td>\n      <td>1</td>\n      <td>0</td>\n    </tr>\n  </tbody>\n</table>\n</div>"
     },
     "metadata": {},
     "execution_count": 4
    }
   ],
   "source": [
    "pd.get_dummies(df)"
   ]
  },
  {
   "cell_type": "code",
   "execution_count": 5,
   "metadata": {},
   "outputs": [
    {
     "output_type": "execute_result",
     "data": {
      "text/plain": "0     7.2500\n1    71.2833\n2     7.9250\n3    53.1000\nName: Fare, dtype: float64"
     },
     "metadata": {},
     "execution_count": 5
    }
   ],
   "source": [
    "df = pd.DataFrame([\n",
    "    [7.2500,],\n",
    "    [71.2833,],\n",
    "    [7.9250,],\n",
    "    [53.1000,],\n",
    "], columns=['Fare',])\n",
    "df['Fare']"
   ]
  },
  {
   "cell_type": "code",
   "execution_count": 6,
   "metadata": {},
   "outputs": [
    {
     "output_type": "execute_result",
     "data": {
      "text/plain": "0    False\n1     True\n2    False\n3     True\nName: Fare, dtype: bool"
     },
     "metadata": {},
     "execution_count": 6
    }
   ],
   "source": [
    "df['Fare'] > 10"
   ]
  },
  {
   "cell_type": "code",
   "execution_count": 7,
   "metadata": {},
   "outputs": [
    {
     "output_type": "execute_result",
     "data": {
      "text/plain": "0    0\n1    1\n2    0\n3    1\nName: Fare, dtype: int32"
     },
     "metadata": {},
     "execution_count": 7
    }
   ],
   "source": [
    "(df['Fare'] > 10).astype(int)"
   ]
  },
  {
   "cell_type": "code",
   "execution_count": 9,
   "metadata": {},
   "outputs": [
    {
     "output_type": "execute_result",
     "data": {
      "text/plain": "      Fare  FareInt\n0   7.2500        7\n1  71.2833       71\n2   7.9250        8\n3  53.1000       53",
      "text/html": "<div>\n<style scoped>\n    .dataframe tbody tr th:only-of-type {\n        vertical-align: middle;\n    }\n\n    .dataframe tbody tr th {\n        vertical-align: top;\n    }\n\n    .dataframe thead th {\n        text-align: right;\n    }\n</style>\n<table border=\"1\" class=\"dataframe\">\n  <thead>\n    <tr style=\"text-align: right;\">\n      <th></th>\n      <th>Fare</th>\n      <th>FareInt</th>\n    </tr>\n  </thead>\n  <tbody>\n    <tr>\n      <th>0</th>\n      <td>7.2500</td>\n      <td>7</td>\n    </tr>\n    <tr>\n      <th>1</th>\n      <td>71.2833</td>\n      <td>71</td>\n    </tr>\n    <tr>\n      <th>2</th>\n      <td>7.9250</td>\n      <td>8</td>\n    </tr>\n    <tr>\n      <th>3</th>\n      <td>53.1000</td>\n      <td>53</td>\n    </tr>\n  </tbody>\n</table>\n</div>"
     },
     "metadata": {},
     "execution_count": 9
    }
   ],
   "source": [
    "df['FareInt'] = df['Fare'].round().astype(int)\n",
    "df[['Fare', 'FareInt']].head()"
   ]
  },
  {
   "cell_type": "code",
   "execution_count": 10,
   "metadata": {},
   "outputs": [
    {
     "output_type": "execute_result",
     "data": {
      "text/plain": "array([[0, 1, 1, 0, 1, 1, 1, 1],\n       [1, 0, 0, 1, 0, 0, 0, 0]], dtype=int64)"
     },
     "metadata": {},
     "execution_count": 10
    }
   ],
   "source": [
    "from sklearn.feature_extraction.text import CountVectorizer\n",
    "vectorizer = CountVectorizer(binary=True)\n",
    "docs = ['the cat is out of the bag', 'dogs are']\n",
    "bow = vectorizer.fit_transform(docs)\n",
    "bow.toarray()"
   ]
  },
  {
   "cell_type": "code",
   "execution_count": 12,
   "metadata": {},
   "outputs": [
    {
     "output_type": "execute_result",
     "data": {
      "text/plain": "{&#39;the&#39;: 7, &#39;cat&#39;: 2, &#39;is&#39;: 4, &#39;out&#39;: 6, &#39;of&#39;: 5, &#39;bag&#39;: 1, &#39;dogs&#39;: 3, &#39;are&#39;: 0}"
     },
     "metadata": {},
     "execution_count": 12
    }
   ],
   "source": [
    "vectorizer.vocabulary_"
   ]
  },
  {
   "cell_type": "code",
   "execution_count": 13,
   "metadata": {},
   "outputs": [
    {
     "output_type": "execute_result",
     "data": {
      "text/plain": "array([[0, 1, 1, 0, 1, 1, 1, 2],\n       [1, 0, 0, 1, 0, 0, 0, 0]], dtype=int64)"
     },
     "metadata": {},
     "execution_count": 13
    }
   ],
   "source": [
    "vectorizer = CountVectorizer()\n",
    "docs = ['the cat is out of the bag', 'dogs are']\n",
    "bow = vectorizer.fit_transform(docs)\n",
    "bow.toarray()"
   ]
  },
  {
   "cell_type": "code",
   "execution_count": 15,
   "metadata": {},
   "outputs": [
    {
     "output_type": "execute_result",
     "data": {
      "text/plain": "    are   bag   cat  dogs    is    of   out   the\n0  0.00  0.38  0.38  0.00  0.38  0.38  0.38  0.54\n1  0.63  0.00  0.00  0.63  0.00  0.00  0.00  0.45",
      "text/html": "<div>\n<style scoped>\n    .dataframe tbody tr th:only-of-type {\n        vertical-align: middle;\n    }\n\n    .dataframe tbody tr th {\n        vertical-align: top;\n    }\n\n    .dataframe thead th {\n        text-align: right;\n    }\n</style>\n<table border=\"1\" class=\"dataframe\">\n  <thead>\n    <tr style=\"text-align: right;\">\n      <th></th>\n      <th>are</th>\n      <th>bag</th>\n      <th>cat</th>\n      <th>dogs</th>\n      <th>is</th>\n      <th>of</th>\n      <th>out</th>\n      <th>the</th>\n    </tr>\n  </thead>\n  <tbody>\n    <tr>\n      <th>0</th>\n      <td>0.00</td>\n      <td>0.38</td>\n      <td>0.38</td>\n      <td>0.00</td>\n      <td>0.38</td>\n      <td>0.38</td>\n      <td>0.38</td>\n      <td>0.54</td>\n    </tr>\n    <tr>\n      <th>1</th>\n      <td>0.63</td>\n      <td>0.00</td>\n      <td>0.00</td>\n      <td>0.63</td>\n      <td>0.00</td>\n      <td>0.00</td>\n      <td>0.00</td>\n      <td>0.45</td>\n    </tr>\n  </tbody>\n</table>\n</div>"
     },
     "metadata": {},
     "execution_count": 15
    }
   ],
   "source": [
    "import pandas as pd\n",
    "from sklearn.feature_extraction.text import TfidfVectorizer\n",
    "vectorizer = TfidfVectorizer()\n",
    "docs = ['the cat is out of the bag', 'the dogs are']\n",
    "tfidf = vectorizer.fit_transform(docs)\n",
    "vocab = vectorizer.get_feature_names()\n",
    "pd.DataFrame(tfidf.toarray(), columns=vocab).round(2)"
   ]
  },
  {
   "source": [
    "- p97から\n",
    "- janomeのインストールから\n"
   ],
   "cell_type": "markdown",
   "metadata": {}
  },
  {
   "cell_type": "code",
   "execution_count": 8,
   "metadata": {},
   "outputs": [
    {
     "output_type": "execute_result",
     "data": {
      "text/plain": "   の  子  子猫  猫  獅子\n0  1  1   1  1   0\n1  1  2   0  0   2",
      "text/html": "<div>\n<style scoped>\n    .dataframe tbody tr th:only-of-type {\n        vertical-align: middle;\n    }\n\n    .dataframe tbody tr th {\n        vertical-align: top;\n    }\n\n    .dataframe thead th {\n        text-align: right;\n    }\n</style>\n<table border=\"1\" class=\"dataframe\">\n  <thead>\n    <tr style=\"text-align: right;\">\n      <th></th>\n      <th>の</th>\n      <th>子</th>\n      <th>子猫</th>\n      <th>猫</th>\n      <th>獅子</th>\n    </tr>\n  </thead>\n  <tbody>\n    <tr>\n      <th>0</th>\n      <td>1</td>\n      <td>1</td>\n      <td>1</td>\n      <td>1</td>\n      <td>0</td>\n    </tr>\n    <tr>\n      <th>1</th>\n      <td>1</td>\n      <td>2</td>\n      <td>0</td>\n      <td>0</td>\n      <td>2</td>\n    </tr>\n  </tbody>\n</table>\n</div>"
     },
     "metadata": {},
     "execution_count": 8
    }
   ],
   "source": [
    "from janome.tokenizer import Tokenizer\n",
    "from sklearn.feature_extraction.text import CountVectorizer\n",
    "import pandas as pd\n",
    "t = Tokenizer(wakati=True)\n",
    "vectorizer = CountVectorizer(tokenizer=t.tokenize)\n",
    "docs = ['猫の子子猫', '獅子の子子獅子']\n",
    "bow = vectorizer.fit_transform(docs)\n",
    "vocab = vectorizer.get_feature_names()\n",
    "pd.DataFrame(bow.toarray(), columns=vocab)"
   ]
  },
  {
   "cell_type": "code",
   "execution_count": 10,
   "metadata": {},
   "outputs": [
    {
     "output_type": "execute_result",
     "data": {
      "text/plain": "{&#39;the cat&#39;: 6,\n &#39;cat is&#39;: 0,\n &#39;is out&#39;: 2,\n &#39;out of&#39;: 4,\n &#39;of the&#39;: 3,\n &#39;the bag&#39;: 5,\n &#39;docs are&#39;: 1}"
     },
     "metadata": {},
     "execution_count": 10
    }
   ],
   "source": [
    "from sklearn.feature_extraction.text import CountVectorizer\n",
    "vectorizer = CountVectorizer(ngram_range=(2, 2))\n",
    "docs = ['the cat is out of the bag', 'docs are']\n",
    "bow = vectorizer.fit_transform(docs)\n",
    "vectorizer.vocabulary_"
   ]
  },
  {
   "cell_type": "code",
   "execution_count": null,
   "metadata": {},
   "outputs": [],
   "source": []
  }
 ]
}